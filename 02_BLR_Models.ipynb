{
 "cells": [
  {
   "cell_type": "markdown",
   "id": "082ec10a",
   "metadata": {},
   "source": [
    "# Bayesian Logistic Regression Models\n",
    "\n",
    "## Overview: Create a few BLR models for each umpire with different feature subsets and compare the posterior predictives\n",
    "\n",
    "\n",
    "---\n",
    "## Project Workflow:\n",
    "1. **Step 1: Install and Import Necessary Libraries**\n",
    "2. **Step 2: Access Data**\n",
    "3. **Step 3: Create Models**\n",
    "5. **Step 4: Compare Models**\n"
   ]
  },
  {
   "cell_type": "markdown",
   "id": "40b2dc3d",
   "metadata": {},
   "source": [
    "# Step 1: Install and Import Necessary Libraries\n"
   ]
  },
  {
   "cell_type": "code",
   "execution_count": null,
   "id": "3812ba27",
   "metadata": {},
   "outputs": [
    {
     "name": "stdout",
     "output_type": "stream",
     "text": [
      "Requirement already satisfied: pandas in c:\\users\\lux elliott\\onedrive - rensselaer polytechnic institute\\documents\\madeline_files\\venv\\lib\\site-packages (2.2.3)\n",
      "Requirement already satisfied: numpy>=1.26.0 in c:\\users\\lux elliott\\onedrive - rensselaer polytechnic institute\\documents\\madeline_files\\venv\\lib\\site-packages (from pandas) (2.2.4)\n",
      "Requirement already satisfied: python-dateutil>=2.8.2 in c:\\users\\lux elliott\\onedrive - rensselaer polytechnic institute\\documents\\madeline_files\\venv\\lib\\site-packages (from pandas) (2.9.0.post0)\n",
      "Requirement already satisfied: pytz>=2020.1 in c:\\users\\lux elliott\\onedrive - rensselaer polytechnic institute\\documents\\madeline_files\\venv\\lib\\site-packages (from pandas) (2025.2)\n",
      "Requirement already satisfied: tzdata>=2022.7 in c:\\users\\lux elliott\\onedrive - rensselaer polytechnic institute\\documents\\madeline_files\\venv\\lib\\site-packages (from pandas) (2025.2)\n",
      "Requirement already satisfied: six>=1.5 in c:\\users\\lux elliott\\onedrive - rensselaer polytechnic institute\\documents\\madeline_files\\venv\\lib\\site-packages (from python-dateutil>=2.8.2->pandas) (1.17.0)\n"
     ]
    },
    {
     "name": "stderr",
     "output_type": "stream",
     "text": [
      "\n",
      "[notice] A new release of pip is available: 24.0 -> 25.0.1\n",
      "[notice] To update, run: python.exe -m pip install --upgrade pip\n"
     ]
    }
   ],
   "source": [
    "import pandas as pd\n",
    "import numpy as np\n"
   ]
  },
  {
   "cell_type": "markdown",
   "id": "3a97dbe9",
   "metadata": {},
   "source": [
    "# Step 2: Access Data"
   ]
  },
  {
   "cell_type": "code",
   "execution_count": null,
   "id": "5331888e",
   "metadata": {},
   "outputs": [],
   "source": [
    "# 1 REPLACE WITH CLEANED IF CHANGED!!!!\n",
    "file_path = r\"data/Umpire_1.csv\"\n",
    "ump1 = pd.read_csv(file_path)\n",
    "\n",
    "# 2\n",
    "file_path = r\"data/Umpire_2.csv\"\n",
    "ump1 = pd.read_csv(file_path)\n",
    "\n",
    "# 3\n",
    "file_path = r\"data/Umpire_3.csv\"\n",
    "ump1 = pd.read_csv(file_path)"
   ]
  }
 ],
 "metadata": {
  "language_info": {
   "name": "python"
  }
 },
 "nbformat": 4,
 "nbformat_minor": 5
}
