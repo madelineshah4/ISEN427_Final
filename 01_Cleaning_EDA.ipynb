{
 "cells": [
  {
   "cell_type": "markdown",
   "id": "dd8e0bcd",
   "metadata": {},
   "source": [
    "# Cleaning and EDA\n",
    "\n",
    "## Overview: Loading, Initial Observations, and Cleaning umpire datasets\n",
    "\n",
    "\n",
    "---\n",
    "## Project Workflow:\n",
    "1. **Step 1: Install and Import Necessary Libraries**\n",
    "2. **Step 2: Access Data**\n",
    "3. **Step 3: Check Packaging**\n",
    "5. **Step 4: Clean Data**\n",
    "6. **Step 5: Save Data**\n"
   ]
  },
  {
   "cell_type": "code",
   "execution_count": null,
   "id": "8dff5c24",
   "metadata": {},
   "outputs": [
    {
     "name": "stdout",
     "output_type": "stream",
     "text": [
      "Umpire_1 cleaned → shape: (57698, 47) | Target distribution:\n",
      "error_in_decision\n",
      "0    50339\n",
      "1     7359\n",
      "\n",
      "Umpire_2 cleaned → shape: (53621, 46) | Target distribution:\n",
      "error_in_decision\n",
      "0    46603\n",
      "1     7018\n",
      "\n",
      "Umpire_3 cleaned → shape: (57326, 46) | Target distribution:\n",
      "error_in_decision\n",
      "0    50394\n",
      "1     6932\n",
      "\n"
     ]
    }
   ],
   "source": [
    "#----- Step 1: Install and Import Necessary Libraries -----\n",
    "import pandas as pd\n",
    "from sklearn.preprocessing import StandardScaler\n",
    "\n",
    "# prep\n",
    "umpire_files = [\"Umpire_1.csv\", \"Umpire_2.csv\", \"Umpire_3.csv\"]\n",
    "columns_to_drop = ['on_1b', 'on_2b', 'on_3b', 'at_bat_number'] # drop bc not consistent across games\n",
    "\n",
    "#----- Step 3: Check Packaging -----\n",
    "def write_diagnostics(df: pd.DataFrame, stage: str, path: str):\n",
    "    with open(path, \"a\") as log:\n",
    "        log.write(f\"\\n\\n=== {stage} ===\\n\\n\")\n",
    "        df.info(buf=log)\n",
    "        log.write(\"\\n\\n--- Head ---\\n\")\n",
    "        log.write(df.head().to_string())\n",
    "        log.write(\"\\n\\n--- Describe ---\\n\")\n",
    "        log.write(df.describe(include='all').to_string())\n",
    "\n",
    "for file in umpire_files:\n",
    "    #----- Step 2: Access Data #-----\n",
    "    df = pd.read_csv(\"data/\" + file)\n",
    "    \n",
    "    #----- Step 3: Check Packaging -----\n",
    "    key = file.replace(\".csv\", \"\")\n",
    "    log_path = f\"data/cleaned/logs/{key}_log.txt\"\n",
    "    open(log_path, \"w\").close() # Clear previous logs\n",
    "    \n",
    "    #----- Step 4: Clean Data -----\n",
    "    \n",
    "    # Drop irrelevant columns\n",
    "    df = df.drop(columns=columns_to_drop, errors='ignore')\n",
    "    df = df.dropna()\n",
    "    write_diagnostics(df, f\"{key} RAW\", log_path)\n",
    "\n",
    "    # Convert manually bc encoding does it backwards\n",
    "    df['error_in_decision'] = df['error_in_decision'].map({'correct': 0, 'incorrect': 1})\n",
    "\n",
    "\t# one-hot encode\n",
    "    non_numeric_cols = df.select_dtypes(exclude=['number']).columns\n",
    "    df = pd.get_dummies(df, columns=non_numeric_cols, drop_first=True)\n",
    "    write_diagnostics(df, f\"{key} ENCODED\", log_path)\n",
    "\n",
    "\t# Scaling\n",
    "    numeric_cols = df.select_dtypes(include='number').columns\n",
    "    scaler = StandardScaler()\n",
    "    cols_to_scale = [col for col in numeric_cols if df[col].nunique() > 2]\n",
    "    df[cols_to_scale] = scaler.fit_transform(df[cols_to_scale])\n",
    "    write_diagnostics(df, f\"{key} SCALED\", log_path)\n",
    "\n",
    "\t#----- Step 5: Save Data -----\n",
    "    df.to_csv(f\"data/cleaned/{key}_cleaned.csv\", index=False)\n",
    "    \n",
    "    #----- Step 3: Check Packaging -----\n",
    "    with open(log_path, \"a\") as log:\n",
    "        log.write(\"\\n\\n=== FINAL SUMMARY ===\\n\\n\")\n",
    "        log.write(f\"{key} cleaned → shape: {df.shape} | Target distribution:\\n{df['error_in_decision'].value_counts().to_string()}\\n\")\n"
   ]
  }
 ],
 "metadata": {
  "kernelspec": {
   "display_name": "Python 3",
   "language": "python",
   "name": "python3"
  },
  "language_info": {
   "codemirror_mode": {
    "name": "ipython",
    "version": 3
   },
   "file_extension": ".py",
   "mimetype": "text/x-python",
   "name": "python",
   "nbconvert_exporter": "python",
   "pygments_lexer": "ipython3",
   "version": "3.11.1"
  }
 },
 "nbformat": 4,
 "nbformat_minor": 5
}
